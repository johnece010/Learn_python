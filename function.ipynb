{
 "cells": [
  {
   "cell_type": "code",
   "execution_count": 1,
   "id": "4c01b2b7",
   "metadata": {},
   "outputs": [
    {
     "name": "stdout",
     "output_type": "stream",
     "text": [
      "Addition: 30\n"
     ]
    }
   ],
   "source": [
    "def addition():\n",
    "    a=10\n",
    "    b=20\n",
    "    sum=a+b\n",
    "    print(\"Addition:\",sum)\n",
    "\n",
    "addition()    "
   ]
  },
  {
   "cell_type": "code",
   "execution_count": 2,
   "id": "ae1998c8",
   "metadata": {},
   "outputs": [
    {
     "name": "stdout",
     "output_type": "stream",
     "text": [
      "A | B | AND | OR | NOT | NAND | NOR | XOR | XNOR\n",
      ".................................................\n",
      "0 | 0 |  0  | 0  |  1  |  1   |  1  |  0  |  1\n",
      "0 | 1 |  0  | 1  |  1  |  1   |  0  |  1  |  0\n",
      "1 | 0 |  0  | 1  |  0  |  1   |  0  |  1  |  0\n",
      "1 | 1 |  1  | 1  |  0  |  0   |  0  |  0  |  1\n"
     ]
    }
   ],
   "source": [
    "#Logic gate function\n",
    "\n",
    "def AND(a,b):\n",
    "    return a and b\n",
    "\n",
    "def OR(a,b):\n",
    "    return a or b\n",
    "\n",
    "def NOT(a):\n",
    "    return not a\n",
    "\n",
    "def NAND(a,b):\n",
    "    return not(a and b)\n",
    "\n",
    "def NOR(a,b):\n",
    "    return not(a or b)\n",
    "\n",
    "def XOR(a,b):\n",
    "    return a!=b\n",
    "\n",
    "def XNOR(a,b):\n",
    "    return a==b\n",
    "\n",
    "print(\"A | B | AND | OR | NOT | NAND | NOR | XOR | XNOR\")\n",
    "print(\".................................................\")\n",
    "for a in [0,1]:\n",
    "    for b in [0,1]:\n",
    "        print(f\"{a} | {b} |  {int(AND(a,b))}  | {int(OR(a,b))}  |  {int(NOT(a))}  |  {int(NAND(a,b))}   |  {int(NOR(a,b))}  |  {int(XOR(a,b))}  |  {int(XNOR(a,b))}\")\n"
   ]
  }
 ],
 "metadata": {
  "kernelspec": {
   "display_name": "ds",
   "language": "python",
   "name": "python3"
  },
  "language_info": {
   "codemirror_mode": {
    "name": "ipython",
    "version": 3
   },
   "file_extension": ".py",
   "mimetype": "text/x-python",
   "name": "python",
   "nbconvert_exporter": "python",
   "pygments_lexer": "ipython3",
   "version": "3.13.5"
  }
 },
 "nbformat": 4,
 "nbformat_minor": 5
}
