{
 "cells": [
  {
   "cell_type": "markdown",
   "id": "fdaa32a5",
   "metadata": {},
   "source": [
    "\n",
    "<span style=\"color:blue; font-size:30px;\">1.Display_Hello_World</span>\n"
   ]
  },
  {
   "cell_type": "code",
   "execution_count": null,
   "id": "e3e3e150",
   "metadata": {},
   "outputs": [
    {
     "name": "stdout",
     "output_type": "stream",
     "text": [
      "Hello_World\n"
     ]
    }
   ],
   "source": [
    "Display=\"Hello_World\" \n",
    "print(Display) \n"
   ]
  },
  {
   "cell_type": "markdown",
   "id": "ca4c390d",
   "metadata": {},
   "source": [
    "<span style=\"color:blue; font-size:30px;\">2.Statements or Conditions</span>"
   ]
  },
  {
   "cell_type": "markdown",
   "id": "3adcfca4",
   "metadata": {},
   "source": [
    "<span style=\"color:violet; font-size:25px; \\n \">@ if-Statement</span>\n",
    "<span style=\"color:yellow; font-size:25px;\">@ if-else-Statement</span>\n",
    "<span style=\"color:green; font-size:25px;\">@ elif-Statement</span>"
   ]
  },
  {
   "cell_type": "markdown",
   "id": "be978ef9",
   "metadata": {},
   "source": [
    "<span style=\"color:violet; font-size:20px;\">if-statement</span>"
   ]
  },
  {
   "cell_type": "code",
   "execution_count": 4,
   "id": "f8d6f3e0",
   "metadata": {},
   "outputs": [
    {
     "name": "stdout",
     "output_type": "stream",
     "text": [
      "This condition is True\n"
     ]
    }
   ],
   "source": [
    "a=50\n",
    "if a>=50:\n",
    "    print(\"This condition is True\")"
   ]
  },
  {
   "cell_type": "markdown",
   "id": "692d3cac",
   "metadata": {},
   "source": [
    "<span style=\"color:yellow; font-size:20px;\">if-else-statement</span>"
   ]
  },
  {
   "cell_type": "code",
   "execution_count": 5,
   "id": "3a48d865",
   "metadata": {},
   "outputs": [
    {
     "name": "stdout",
     "output_type": "stream",
     "text": [
      "This condition is False\n"
     ]
    }
   ],
   "source": [
    "a=10\n",
    "b=20\n",
    "if a>5 and b<20:\n",
    "    print(\"This condition is True\")\n",
    "else:\n",
    "    print(\"This condition is False\")"
   ]
  },
  {
   "cell_type": "markdown",
   "id": "91ed739c",
   "metadata": {},
   "source": [
    "<span style=\"color:green; font-size:20px;\">elif-statement</span>"
   ]
  },
  {
   "cell_type": "code",
   "execution_count": 6,
   "id": "2da7caf6",
   "metadata": {},
   "outputs": [
    {
     "name": "stdout",
     "output_type": "stream",
     "text": [
      "This value is 100\n"
     ]
    }
   ],
   "source": [
    "a=100\n",
    "\n",
    "if a==50:\n",
    "    print(\"This Value is 50\")\n",
    "elif a==100:\n",
    "    print(\"This value is 100\")\n",
    "else:\n",
    "    print(\"This value is wrong\")"
   ]
  },
  {
   "cell_type": "markdown",
   "id": "1e265cd8",
   "metadata": {},
   "source": [
    "<span style=\"color:blue; font-size:30px;\">3.Loops</span>"
   ]
  },
  {
   "cell_type": "markdown",
   "id": "f6a84e40",
   "metadata": {},
   "source": [
    "<span style=\"color:orange; font-size:25px;\">@ for-loop</span>\n",
    "<span style=\"color:red; font-size:25px;\">@ while-loop</span>"
   ]
  },
  {
   "cell_type": "markdown",
   "id": "53174e58",
   "metadata": {},
   "source": [
    "<span style=\"color:orange; font-size:20px;\">for-loop</span>"
   ]
  },
  {
   "cell_type": "code",
   "execution_count": 8,
   "id": "63579ebf",
   "metadata": {},
   "outputs": [
    {
     "name": "stdout",
     "output_type": "stream",
     "text": [
      "1\n",
      "2\n",
      "3\n",
      "4\n",
      "5\n"
     ]
    }
   ],
   "source": [
    "#1.Loop through a range of numbers:\n",
    "#print number from 1 to 5\n",
    "\n",
    "for i in range(1,6):\n",
    "    print(i)\n"
   ]
  },
  {
   "cell_type": "code",
   "execution_count": 11,
   "id": "bbe4c6e0",
   "metadata": {},
   "outputs": [
    {
     "name": "stdout",
     "output_type": "stream",
     "text": [
      "Apple\n",
      "Banana\n",
      "Cherry\n"
     ]
    }
   ],
   "source": [
    "#2.Loop through a list\n",
    "\n",
    "Fruits=[\"Apple\",\"Banana\",\"Cherry\"]\n",
    "for Fruit in Fruits:\n",
    "    print(Fruit)"
   ]
  },
  {
   "cell_type": "code",
   "execution_count": 13,
   "id": "583ae460",
   "metadata": {},
   "outputs": [
    {
     "name": "stdout",
     "output_type": "stream",
     "text": [
      "2\n",
      "4\n",
      "6\n",
      "8\n",
      "10\n"
     ]
    }
   ],
   "source": [
    "#3.For-loop with condition\n",
    "#Print even number from 1 to 10 \n",
    "\n",
    "for num in range(1,11):\n",
    "    if num%2==0:\n",
    "        print(num)\n"
   ]
  },
  {
   "cell_type": "code",
   "execution_count": 9,
   "id": "4fad53e4",
   "metadata": {},
   "outputs": [
    {
     "name": "stdout",
     "output_type": "stream",
     "text": [
      "1*1=1\n",
      "1*2=2\n",
      "1*3=3\n",
      "2*1=2\n",
      "2*2=4\n",
      "2*3=6\n",
      "3*1=3\n",
      "3*2=6\n",
      "3*3=9\n"
     ]
    }
   ],
   "source": [
    "#Nested-for-loop:\n",
    "#Print a multiplication Table\n",
    "\n",
    "for i in range(1,4):\n",
    "    for j in range(1,4):\n",
    "        print(f\"{i}*{j}={i*j}\")\n",
    "        \n",
    "       \n"
   ]
  },
  {
   "cell_type": "markdown",
   "id": "f28db4e3",
   "metadata": {},
   "source": [
    "<span style=\"color:red; font-size:20px;\">while-loop</span>"
   ]
  },
  {
   "cell_type": "code",
   "execution_count": 11,
   "id": "8bfd7b54",
   "metadata": {},
   "outputs": [
    {
     "name": "stdout",
     "output_type": "stream",
     "text": [
      "1\n",
      "2\n",
      "3\n",
      "4\n",
      "5\n"
     ]
    }
   ],
   "source": [
    "i=1\n",
    "while i<=5:\n",
    "    print(i)\n",
    "    i+=1"
   ]
  },
  {
   "cell_type": "code",
   "execution_count": 16,
   "id": "85b97662",
   "metadata": {},
   "outputs": [
    {
     "name": "stdout",
     "output_type": "stream",
     "text": [
      "Access Granted\n"
     ]
    }
   ],
   "source": [
    "#Enter password\n",
    "\n",
    "password=\" \"\n",
    "while(password!=\"John\"):\n",
    "    password=(input(\"Enter the password\"))\n",
    "if password==\"John\":\n",
    "    print(\"Access Granted\")"
   ]
  },
  {
   "cell_type": "markdown",
   "id": "f5f71d98",
   "metadata": {},
   "source": [
    "<span style=\"color:blue; font-size:30px;\">4.Functions</span>"
   ]
  },
  {
   "cell_type": "markdown",
   "id": "a35020d4",
   "metadata": {},
   "source": [
    "<span style=\"color:orange; font-size:25px;\">Arithmetic operatos using Function</span>"
   ]
  },
  {
   "cell_type": "code",
   "execution_count": 2,
   "id": "e2761053",
   "metadata": {},
   "outputs": [
    {
     "name": "stdout",
     "output_type": "stream",
     "text": [
      "Addition: 50\n",
      "Subtraction: 10\n",
      "Multiplication: 600\n",
      "Division: 1.5\n"
     ]
    }
   ],
   "source": [
    "def addition():\n",
    "    num1=30\n",
    "    num2=20\n",
    "    sum=num1+num2\n",
    "    print(\"Addition:\",sum)\n",
    "\n",
    "def subtraction():\n",
    "    num1=30\n",
    "    num2=20\n",
    "    sum=num1-num2\n",
    "    print(\"Subtraction:\",sum)\n",
    "\n",
    "def multiply():\n",
    "    num1=30\n",
    "    num2=20\n",
    "    sum=num1*num2\n",
    "    print(\"Multiplication:\",sum)\n",
    "\n",
    "def division():\n",
    "    num1=30\n",
    "    num2=20\n",
    "    sum=num1/num2\n",
    "    print(\"Division:\",sum)\n",
    "\n",
    "addition()\n",
    "subtraction()\n",
    "multiply()\n",
    "division()\n"
   ]
  },
  {
   "cell_type": "markdown",
   "id": "919b5bfd",
   "metadata": {},
   "source": [
    "<span style=\"color:orange; font-size:25px;\">Logic operator using Function</span>"
   ]
  },
  {
   "cell_type": "code",
   "execution_count": 12,
   "id": "6226da21",
   "metadata": {},
   "outputs": [
    {
     "name": "stdout",
     "output_type": "stream",
     "text": [
      "A | B | AND | OR | NOT | NAND | NOR | XOR | XNOR \n",
      "________________________________________________\n",
      "0 | 0 |  0  | 0  |  1  |  1   |  1  |  0  |  1\n",
      "0 | 1 |  0  | 1  |  1  |  1   |  0  |  1  |  0\n",
      "1 | 0 |  0  | 1  |  0  |  1   |  0  |  1  |  0\n",
      "1 | 1 |  1  | 1  |  0  |  0   |  0  |  0  |  1\n"
     ]
    }
   ],
   "source": [
    "def AND(num1,num2):\n",
    "    return num1 and num2\n",
    "\n",
    "def OR(num1,num2):\n",
    "    return num1 or num2\n",
    "\n",
    "def NOT(num1):\n",
    "    return not num1\n",
    "\n",
    "def NAND(num1,num2):\n",
    "    return not(num1 and num2)\n",
    "\n",
    "def NOR(num1,num2):\n",
    "    return not(num1 or num2)\n",
    "\n",
    "def XOR(num1,num2):\n",
    "    return num1!=num2\n",
    "\n",
    "def XNOR(num1,num2):\n",
    "    return num1==num2  \n",
    "\n",
    "print(\"A | B | AND | OR | NOT | NAND | NOR | XOR | XNOR \")\n",
    "print(\"________________________________________________\")\n",
    "for num1 in [0,1]:\n",
    "    for num2 in [0,1]:\n",
    "        print(f\"{num1} | {num2} |  {int(AND(num1,num2))}  | {int(OR(num1,num2))}  |  {int(NOT(num1))}  |  {int(NAND(num1,num2))}   |  {int(NOR(num1,num2))}  |  {int(XOR(num1,num2))}  |  {int(XNOR(num1,num2))}\")\n",
    "\n",
    "  "
   ]
  },
  {
   "cell_type": "markdown",
   "id": "65753fd2",
   "metadata": {},
   "source": [
    "<span style=\"color:Green; font-size:25px;\">Function with return</span>"
   ]
  },
  {
   "cell_type": "code",
   "execution_count": 18,
   "id": "4c4b7f3f",
   "metadata": {},
   "outputs": [
    {
     "data": {
      "text/plain": [
       "50"
      ]
     },
     "execution_count": 18,
     "metadata": {},
     "output_type": "execute_result"
    }
   ],
   "source": [
    "def add_with_return():\n",
    "    x=20\n",
    "    y=30\n",
    "    return x+y\n",
    "\n",
    "def sub_with_return():\n",
    "    x=30\n",
    "    y=20\n",
    "    return x-y\n",
    "\n",
    "def mult_with_return():\n",
    "    x=20\n",
    "    y=20\n",
    "    return x*y\n",
    "\n",
    "def div_with_return():\n",
    "    x=50\n",
    "    y=10\n",
    "    return x/y\n",
    "\n",
    "add_with_return()\n"
   ]
  },
  {
   "cell_type": "code",
   "execution_count": 20,
   "id": "24003166",
   "metadata": {},
   "outputs": [
    {
     "data": {
      "text/plain": [
       "10"
      ]
     },
     "execution_count": 20,
     "metadata": {},
     "output_type": "execute_result"
    }
   ],
   "source": [
    "sub_with_return()"
   ]
  },
  {
   "cell_type": "code",
   "execution_count": 21,
   "id": "16c30011",
   "metadata": {},
   "outputs": [
    {
     "data": {
      "text/plain": [
       "400"
      ]
     },
     "execution_count": 21,
     "metadata": {},
     "output_type": "execute_result"
    }
   ],
   "source": [
    "mult_with_return()"
   ]
  },
  {
   "cell_type": "code",
   "execution_count": 22,
   "id": "b4607f02",
   "metadata": {},
   "outputs": [
    {
     "data": {
      "text/plain": [
       "5.0"
      ]
     },
     "execution_count": 22,
     "metadata": {},
     "output_type": "execute_result"
    }
   ],
   "source": [
    "div_with_return()"
   ]
  },
  {
   "cell_type": "markdown",
   "id": "0cff79f1",
   "metadata": {},
   "source": [
    "<span style=\"color:blue; font-size:30px;\">5.Classes</span>"
   ]
  },
  {
   "cell_type": "markdown",
   "id": "d54b6b1e",
   "metadata": {},
   "source": [
    "<span style=\"color:red; font-size:20px;\">@ Class and Object</span>"
   ]
  },
  {
   "cell_type": "code",
   "execution_count": 34,
   "id": "353fd728",
   "metadata": {},
   "outputs": [
    {
     "name": "stdout",
     "output_type": "stream",
     "text": [
      "Addition: 30\n",
      "subtraction: 20\n",
      "Multiplication: 400\n",
      "Division: 3.0\n"
     ]
    }
   ],
   "source": [
    "class Open:\n",
    "    def add(self, num1, num2):\n",
    "        return num1 + num2\n",
    "\n",
    "    def sub(self, num1, num2):\n",
    "        return num1 - num2\n",
    "\n",
    "    def mult(self, num1, num2):\n",
    "        return num1 * num2\n",
    "\n",
    "    def div(self, num1, num2):\n",
    "        return num1 / num2\n",
    "    \n",
    "op = Open()\n",
    "    \n",
    "print(\"Addition:\",op.add(10,20))\n",
    "print(\"subtraction:\",op.sub(30,10))\n",
    "print(\"Multiplication:\",op.mult(20,20))\n",
    "print(\"Division:\",op.div(30,10))"
   ]
  },
  {
   "cell_type": "markdown",
   "id": "d8703961",
   "metadata": {},
   "source": [
    "<span style=\"color:red; font-size:20px;\">@ Class with constructor</span>"
   ]
  },
  {
   "cell_type": "code",
   "execution_count": 37,
   "id": "776292e9",
   "metadata": {},
   "outputs": [
    {
     "name": "stdout",
     "output_type": "stream",
     "text": [
      "Name: John\n",
      "Age: 34\n",
      "Name: Jai\n",
      "Age: 31\n"
     ]
    }
   ],
   "source": [
    "class Person:\n",
    "    def __init__(self, Name, Age):\n",
    "        self.Name = Name\n",
    "        self.Age = Age\n",
    "\n",
    "    def display(self):\n",
    "        print(f\"Name: {self.Name}\")\n",
    "        print(f\"Age: {self.Age}\")\n",
    "\n",
    "\n",
    "person1 = Person(\"John\", 34)\n",
    "person2 = Person(\"Jai\", 31)\n",
    "\n",
    "person1.display()\n",
    "person2.display()"
   ]
  },
  {
   "cell_type": "code",
   "execution_count": 12,
   "id": "86cc2290",
   "metadata": {},
   "outputs": [
    {
     "name": "stdout",
     "output_type": "stream",
     "text": [
      "Name:John\n",
      "Id_Num:8691\n",
      "Dept:BBA,\n",
      "\n",
      "Name:Jai\n",
      "Id_Num:1806\n",
      "Dept:ITI,\n",
      "\n",
      "Name:Kutty\n",
      "Id_Num:2409\n",
      "Dept:BE,\n",
      "\n"
     ]
    }
   ],
   "source": [
    "class student:\n",
    "    def __init__(self,name,id_num,dept):\n",
    "        self.name=name\n",
    "        self.id_num=id_num\n",
    "        self.dept=dept\n",
    "    def display(self):\n",
    "        print(f\"Name:{self.name}\")\n",
    "        print(f\"Id_Num:{self.id_num}\")\n",
    "        print(f\"Dept:{self.dept},\\n\")\n",
    "        \n",
    "student1=student(\"John\",8691,\"BBA\")\n",
    "student2=student(\"Jai\",1806,\"ITI\")\n",
    "student3=student(\"Kutty\",2409,\"BE\")\n",
    "\n",
    "student1.display()\n",
    "student2.display()\n",
    "student3.display()\n",
    "\n",
    "    \n",
    "        "
   ]
  },
  {
   "cell_type": "markdown",
   "id": "72773951",
   "metadata": {},
   "source": [
    "<span style=\"color:red; font-size:20px;\">@ Class with static method</span>"
   ]
  },
  {
   "cell_type": "code",
   "execution_count": 18,
   "id": "82c01344",
   "metadata": {},
   "outputs": [
    {
     "name": "stdout",
     "output_type": "stream",
     "text": [
      "Addition: 30\n",
      "Subtraction: 10\n",
      "Multiplication: 400\n",
      "Division: 20.0\n"
     ]
    }
   ],
   "source": [
    "class operator:\n",
    "\n",
    "    @staticmethod\n",
    "    def add(a,b):\n",
    "        return a+b\n",
    "    @staticmethod\n",
    "    def sub(a,b):\n",
    "        return a-b\n",
    "    @staticmethod\n",
    "    def mul(a,b):\n",
    "        return a*b\n",
    "    @staticmethod\n",
    "    def div(a,b):\n",
    "        return a/b\n",
    "    \n",
    "result1= operator.add(10,20)\n",
    "result2= operator.sub(20,10)\n",
    "result3= operator.mul(20,20)\n",
    "result4= operator.div(40,2)\n",
    "\n",
    "print(\"Addition:\",result1)\n",
    "print(\"Subtraction:\",result2)\n",
    "print(\"Multiplication:\",result3)\n",
    "print(\"Division:\",result4)\n",
    "\n"
   ]
  },
  {
   "cell_type": "markdown",
   "id": "aeb52c51",
   "metadata": {},
   "source": [
    "<span style=\"color:blue; font-size:30px;\">6.Numpy in python</span>"
   ]
  },
  {
   "cell_type": "code",
   "execution_count": 21,
   "id": "080ed595",
   "metadata": {},
   "outputs": [
    {
     "name": "stdout",
     "output_type": "stream",
     "text": [
      "Add: [1, 2, 3, 4, 5, 6, 7, 8]\n"
     ]
    }
   ],
   "source": [
    "import numpy as np\n",
    "\n",
    "list1=[1,2,3,4]\n",
    "list2=[5,6,7,8]\n",
    "\n",
    "print(\"Add:\",list1+list2)\n",
    "\n"
   ]
  },
  {
   "cell_type": "markdown",
   "id": "2a4f1580",
   "metadata": {},
   "source": [
    "<span style=\"color:yellow; font-size:20px;\"># Tasks of numpy</span>"
   ]
  },
  {
   "cell_type": "code",
   "execution_count": 24,
   "id": "0587d0bd",
   "metadata": {},
   "outputs": [
    {
     "name": "stdout",
     "output_type": "stream",
     "text": [
      "Maths_marks_converted_them_to_Float: [79. 79. 64. 79. 69. 87. 81. 68. 72. 67.]\n"
     ]
    }
   ],
   "source": [
    "#1. Extract the Maths marks of all students and convert them to float.\n",
    "\n",
    "import numpy as np\n",
    "\n",
    "# Dataset:  Name,Tamil,English,Maths,Science,Social_science\n",
    "students = np.array([\n",
    "    ['Johnson', '80', '75', '79', '82', '95'],\n",
    "    ['Jayaseelan', '82', '80', '79', '92', '90'],\n",
    "    ['Kutty', '85', '60', '64', '87', '85'],\n",
    "    ['Raj', '90', '70', '79', '84', '89'],\n",
    "    ['Vijay', '78', '76', '69', '79', '90'],\n",
    "    ['Jaipa', '88', '90', '87', '86', '91'],\n",
    "    ['Ruban', '80', '71', '81', '73', '89'],\n",
    "    ['Ebi', '75', '73', '68', '76', '91'],\n",
    "    ['Joel', '67', '76', '72', '86', '74'],\n",
    "    ['Dhiva', '80', '75', '67', '78', '81']\n",
    "])\n",
    "\n",
    "Maths_marks=students[:,3].astype(float)\n",
    "\n",
    "print(\"Maths_marks_converted_them_to_Float:\",Maths_marks)"
   ]
  },
  {
   "cell_type": "code",
   "execution_count": 33,
   "id": "d604a16a",
   "metadata": {},
   "outputs": [
    {
     "name": "stdout",
     "output_type": "stream",
     "text": [
      "Average_mark_of_the_English_subject: 74.6\n"
     ]
    }
   ],
   "source": [
    "# 2. Calculate the average mark of the English subject in students.\n",
    "\n",
    "import numpy as np\n",
    "\n",
    "# Dataset:  Name,Tamil,English,Maths,Science,Social_science\n",
    "students = np.array([\n",
    "    ['Johnson', '80', '75', '79', '82', '95'],\n",
    "    ['Jayaseelan', '82', '80', '79', '92', '90'],\n",
    "    ['Kutty', '85', '60', '64', '87', '85'],\n",
    "    ['Raj', '90', '70', '79', '84', '89'],\n",
    "    ['Vijay', '78', '76', '69', '79', '90'],\n",
    "    ['Jaipa', '88', '90', '87', '86', '91'],\n",
    "    ['Ruban', '80', '71', '81', '73', '89'],\n",
    "    ['Ebi', '75', '73', '68', '76', '91'],\n",
    "    ['Joel', '67', '76', '72', '86', '74'],\n",
    "    ['Dhiva', '80', '75', '67', '78', '81']\n",
    "])\n",
    "\n",
    "Average_Mark=students[:,2].astype(int)\n",
    "\n",
    "English_sub=np.mean(Average_Mark)\n",
    "\n",
    "print(\"Average_mark_of_the_English_subject:\",English_sub)"
   ]
  },
  {
   "cell_type": "code",
   "execution_count": 36,
   "id": "d209bc0c",
   "metadata": {},
   "outputs": [
    {
     "name": "stdout",
     "output_type": "stream",
     "text": [
      "Highest_Mark_in_Tamil: 90\n"
     ]
    }
   ],
   "source": [
    "# 3. Find the Student with the highest Mark in Tamil.\n",
    "\n",
    "import numpy as np\n",
    "\n",
    "# Dataset:  Name,Tamil,English,Maths,Science,Social_science\n",
    "students = np.array([\n",
    "    ['Johnson', '80', '75', '79', '82', '95'],\n",
    "    ['Jayaseelan', '82', '80', '79', '92', '90'],\n",
    "    ['Kutty', '85', '60', '64', '87', '85'],\n",
    "    ['Raj', '90', '70', '79', '84', '89'],\n",
    "    ['Vijay', '78', '76', '69', '79', '90'],\n",
    "    ['Jaipa', '88', '90', '87', '86', '91'],\n",
    "    ['Ruban', '80', '71', '81', '73', '89'],\n",
    "    ['Ebi', '75', '73', '68', '76', '91'],\n",
    "    ['Joel', '67', '76', '72', '86', '74'],\n",
    "    ['Dhiva', '80', '75', '67', '78', '81']\n",
    "])\n",
    "\n",
    "Tamil=students[:,1].astype(int)\n",
    "\n",
    "Highest_mark=np.max(Tamil)\n",
    "\n",
    "print(\"Highest_Mark_in_Tamil:\",Highest_mark)"
   ]
  },
  {
   "cell_type": "code",
   "execution_count": 42,
   "id": "e532defc",
   "metadata": {},
   "outputs": [
    {
     "name": "stdout",
     "output_type": "stream",
     "text": [
      "Higher_then_90: ['Johnson' 'Jaipa' 'Ebi']\n"
     ]
    }
   ],
   "source": [
    "# 4. Extract the names of students with Social mark higher than 90.\n",
    "\n",
    "import numpy as np\n",
    "\n",
    "# Dataset:  Name,Tamil,English,Maths,Science,Social_science\n",
    "students = np.array([\n",
    "    ['Johnson', '80', '75', '79', '82', '95'],\n",
    "    ['Jayaseelan', '82', '80', '79', '92', '90'],\n",
    "    ['Kutty', '85', '60', '64', '87', '85'],\n",
    "    ['Raj', '90', '70', '79', '84', '89'],\n",
    "    ['Vijay', '78', '76', '69', '79', '90'],\n",
    "    ['Jaipa', '88', '90', '87', '86', '91'],\n",
    "    ['Ruban', '80', '71', '81', '73', '89'],\n",
    "    ['Ebi', '75', '73', '68', '76', '91'],\n",
    "    ['Joel', '67', '76', '72', '86', '74'],\n",
    "    ['Dhiva', '80', '75', '67', '78', '81']\n",
    "])\n",
    "\n",
    "Social=students[students[:,5]>'90',0]\n",
    "print(\"Higher_then_90:\",Social)"
   ]
  },
  {
   "cell_type": "markdown",
   "id": "aa7b1137",
   "metadata": {},
   "source": [
    "<span style=\"color:blue; font-size:30px;\">7.Pandas in python</span>"
   ]
  },
  {
   "cell_type": "code",
   "execution_count": 2,
   "id": "fef2e4b0",
   "metadata": {},
   "outputs": [
    {
     "name": "stdout",
     "output_type": "stream",
     "text": [
      "{'Name': 'John', 'Age': 34, 'Dept': 'BBA'}\n"
     ]
    },
    {
     "data": {
      "application/vnd.microsoft.datawrangler.viewer.v0+json": {
       "columns": [
        {
         "name": "index",
         "rawType": "int64",
         "type": "integer"
        },
        {
         "name": "Name",
         "rawType": "object",
         "type": "string"
        },
        {
         "name": "Age",
         "rawType": "int64",
         "type": "integer"
        },
        {
         "name": "Dept",
         "rawType": "object",
         "type": "string"
        }
       ],
       "ref": "fc4c6e1c-21dd-457c-b373-b0d0da0c4a65",
       "rows": [
        [
         "0",
         "John",
         "34",
         "BBA"
        ]
       ],
       "shape": {
        "columns": 3,
        "rows": 1
       }
      },
      "text/html": [
       "<div>\n",
       "<style scoped>\n",
       "    .dataframe tbody tr th:only-of-type {\n",
       "        vertical-align: middle;\n",
       "    }\n",
       "\n",
       "    .dataframe tbody tr th {\n",
       "        vertical-align: top;\n",
       "    }\n",
       "\n",
       "    .dataframe thead th {\n",
       "        text-align: right;\n",
       "    }\n",
       "</style>\n",
       "<table border=\"1\" class=\"dataframe\">\n",
       "  <thead>\n",
       "    <tr style=\"text-align: right;\">\n",
       "      <th></th>\n",
       "      <th>Name</th>\n",
       "      <th>Age</th>\n",
       "      <th>Dept</th>\n",
       "    </tr>\n",
       "  </thead>\n",
       "  <tbody>\n",
       "    <tr>\n",
       "      <th>0</th>\n",
       "      <td>John</td>\n",
       "      <td>34</td>\n",
       "      <td>BBA</td>\n",
       "    </tr>\n",
       "  </tbody>\n",
       "</table>\n",
       "</div>"
      ],
      "text/plain": [
       "   Name  Age Dept\n",
       "0  John   34  BBA"
      ]
     },
     "execution_count": 2,
     "metadata": {},
     "output_type": "execute_result"
    }
   ],
   "source": [
    "#simple example for create Datafram in pandas\n",
    "\n",
    "import pandas as pd\n",
    "\n",
    "Data={'Name':'John','Age':34,'Dept':\"BBA\"}\n",
    "print(Data)\n",
    "\n",
    "Record=pd.DataFrame(Data,index=[0])\n",
    "Record.head()"
   ]
  },
  {
   "cell_type": "code",
   "execution_count": 5,
   "id": "578addd5",
   "metadata": {},
   "outputs": [
    {
     "data": {
      "text/plain": [
       "'   Name  Age Dept\\n0  John   34  BBA'"
      ]
     },
     "execution_count": 5,
     "metadata": {},
     "output_type": "execute_result"
    }
   ],
   "source": [
    "Record.to_string()"
   ]
  },
  {
   "cell_type": "code",
   "execution_count": 4,
   "id": "6a7b8f6a",
   "metadata": {},
   "outputs": [
    {
     "name": "stdout",
     "output_type": "stream",
     "text": [
      "<class 'pandas.core.frame.DataFrame'>\n",
      "Index: 1 entries, 0 to 0\n",
      "Data columns (total 3 columns):\n",
      " #   Column  Non-Null Count  Dtype \n",
      "---  ------  --------------  ----- \n",
      " 0   Name    1 non-null      object\n",
      " 1   Age     1 non-null      int64 \n",
      " 2   Dept    1 non-null      object\n",
      "dtypes: int64(1), object(2)\n",
      "memory usage: 32.0+ bytes\n"
     ]
    }
   ],
   "source": [
    "Record.info()"
   ]
  }
 ],
 "metadata": {
  "kernelspec": {
   "display_name": "Python 3",
   "language": "python",
   "name": "python3"
  },
  "language_info": {
   "codemirror_mode": {
    "name": "ipython",
    "version": 3
   },
   "file_extension": ".py",
   "mimetype": "text/x-python",
   "name": "python",
   "nbconvert_exporter": "python",
   "pygments_lexer": "ipython3",
   "version": "3.13.5"
  }
 },
 "nbformat": 4,
 "nbformat_minor": 5
}
