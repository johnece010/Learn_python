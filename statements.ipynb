{
 "cells": [
  {
   "cell_type": "code",
   "execution_count": null,
   "id": "91bd0fb4",
   "metadata": {},
   "outputs": [
    {
     "name": "stdout",
     "output_type": "stream",
     "text": [
      "This is correct\n"
     ]
    }
   ],
   "source": [
    "#Statements:\n",
    "\n",
    "#1. if statement\n",
    "\n",
    "num = 20\n",
    "num1= 30\n",
    "\n",
    "if num==20:\n",
    "    print(\"This is correct\")\n",
    "    "
   ]
  },
  {
   "cell_type": "code",
   "execution_count": 4,
   "id": "576a977c",
   "metadata": {},
   "outputs": [
    {
     "name": "stdout",
     "output_type": "stream",
     "text": [
      "This is incorrect\n"
     ]
    }
   ],
   "source": [
    "#2. if-else statement\n",
    "\n",
    "if num==30:\n",
    "    print(\"This is correct\")\n",
    "else:\n",
    "    print(\"This is incorrect\")"
   ]
  },
  {
   "cell_type": "code",
   "execution_count": null,
   "id": "9c1a0133",
   "metadata": {},
   "outputs": [
    {
     "name": "stdout",
     "output_type": "stream",
     "text": [
      "This is correct\n"
     ]
    }
   ],
   "source": [
    "#3. Nested-if statement\n",
    "\n",
    "num=20\n",
    "num1=30\n",
    "num3=40\n",
    "\n",
    "if num==20:\n",
    "    if num1==30:\n",
    "        if num3==40:\n",
    "            print(\"This is correct\")\n",
    "        else:\n",
    "            print(\"This is incorrect\")\n",
    "        "
   ]
  },
  {
   "cell_type": "code",
   "execution_count": 12,
   "id": "ef3a635b",
   "metadata": {},
   "outputs": [
    {
     "name": "stdout",
     "output_type": "stream",
     "text": [
      "Zero\n"
     ]
    }
   ],
   "source": [
    "#4. if-elif-else statement\n",
    "\n",
    "num=0\n",
    "\n",
    "if num>0:\n",
    "    print(\"Positive Number\")\n",
    "elif num==0:\n",
    "    print(\"Zero\")\n",
    "else:\n",
    "    print(\"Negative number\")"
   ]
  }
 ],
 "metadata": {
  "kernelspec": {
   "display_name": "Python 3",
   "language": "python",
   "name": "python3"
  },
  "language_info": {
   "codemirror_mode": {
    "name": "ipython",
    "version": 3
   },
   "file_extension": ".py",
   "mimetype": "text/x-python",
   "name": "python",
   "nbconvert_exporter": "python",
   "pygments_lexer": "ipython3",
   "version": "3.13.7"
  }
 },
 "nbformat": 4,
 "nbformat_minor": 5
}
