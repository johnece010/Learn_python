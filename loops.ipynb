{
 "cells": [
  {
   "cell_type": "code",
   "execution_count": 17,
   "id": "03021416",
   "metadata": {},
   "outputs": [
    {
     "name": "stdout",
     "output_type": "stream",
     "text": [
      "1\n",
      "2\n",
      "3\n",
      "4\n",
      "5\n",
      "6\n",
      "7\n",
      "8\n"
     ]
    }
   ],
   "source": [
    "#Loops\n",
    "\n",
    "#for loop\n",
    "#1. Loop through a range of number's\n",
    "#print number from 1 to 8\n",
    "  \n",
    "for i in range(1,9):\n",
    "    print(i)\n"
   ]
  },
  {
   "cell_type": "code",
   "execution_count": 5,
   "id": "ea72f485",
   "metadata": {},
   "outputs": [
    {
     "name": "stdout",
     "output_type": "stream",
     "text": [
      "Joseph\n",
      "Delcy\n",
      "John\n",
      "Jai\n",
      "kutty\n"
     ]
    }
   ],
   "source": [
    "#Loop through a list\n",
    "\n",
    "Name=[\"Joseph\",\"Delcy\",\"John\",\"Jai\",'kutty']\n",
    "\n",
    "for Names in Name:\n",
    "    print(Names)"
   ]
  },
  {
   "cell_type": "code",
   "execution_count": 11,
   "id": "c67e62af",
   "metadata": {},
   "outputs": [
    {
     "name": "stdout",
     "output_type": "stream",
     "text": [
      "2\n",
      "4\n",
      "6\n",
      "8\n",
      "10\n"
     ]
    }
   ],
   "source": [
    "#for loop with condition:\n",
    "#print only even number from 1 to 10\n",
    "\n",
    "for i in range (1,11):\n",
    "    if i%2==0:\n",
    "        print(i)"
   ]
  },
  {
   "cell_type": "code",
   "execution_count": 13,
   "id": "e87fd87e",
   "metadata": {},
   "outputs": [
    {
     "name": "stdout",
     "output_type": "stream",
     "text": [
      "1\n",
      "3\n",
      "5\n",
      "7\n",
      "9\n"
     ]
    }
   ],
   "source": [
    "#for loop with condition:\n",
    "#print only odd number from 1 to 10\n",
    "\n",
    "for i in range (1,11):\n",
    "    if i%2==1:\n",
    "        print(i)"
   ]
  },
  {
   "cell_type": "code",
   "execution_count": 8,
   "id": "cae153e5",
   "metadata": {},
   "outputs": [
    {
     "name": "stdout",
     "output_type": "stream",
     "text": [
      "1*1=1\n",
      "1*2=2\n",
      "1*3=3\n",
      "1*4=4\n",
      "_____\n",
      "2*1=2\n",
      "2*2=4\n",
      "2*3=6\n",
      "2*4=8\n",
      "_____\n",
      "3*1=3\n",
      "3*2=6\n",
      "3*3=9\n",
      "3*4=12\n",
      "_____\n",
      "4*1=4\n",
      "4*2=8\n",
      "4*3=12\n",
      "4*4=16\n",
      "_____\n"
     ]
    }
   ],
   "source": [
    "#Nested for loop\n",
    "#print a multiplication table\n",
    "\n",
    "for i in range (1,5):\n",
    "    for j in range (1,5):\n",
    "        print(f\"{i}*{j}={i*j}\")\n",
    "    print(\"_____\")\n",
    "       \n",
    "        "
   ]
  },
  {
   "cell_type": "code",
   "execution_count": 19,
   "id": "e740694b",
   "metadata": {},
   "outputs": [
    {
     "name": "stdout",
     "output_type": "stream",
     "text": [
      "1\n",
      "2\n",
      "3\n",
      "4\n",
      "5\n"
     ]
    }
   ],
   "source": [
    "#while Loop\n",
    "\n",
    "#print number from 1 to 5\n",
    "\n",
    "i=1\n",
    "while i<=5:\n",
    "    print(i)\n",
    "    i+=1\n"
   ]
  },
  {
   "cell_type": "code",
   "execution_count": 22,
   "id": "1c69c14f",
   "metadata": {},
   "outputs": [
    {
     "name": "stdout",
     "output_type": "stream",
     "text": [
      "Access denide\n",
      "Access Granted\n"
     ]
    }
   ],
   "source": [
    "#password check\n",
    "\n",
    "password=\" \"\n",
    "\n",
    "while password != \"Johnson\":\n",
    "    password = input(\"Enter_Password\")\n",
    "    if password==\"Johnson\":\n",
    "        print(\"Access Granted\")\n",
    "    else:\n",
    "        print(\"Access denide\")"
   ]
  }
 ],
 "metadata": {
  "kernelspec": {
   "display_name": "Python 3",
   "language": "python",
   "name": "python3"
  },
  "language_info": {
   "codemirror_mode": {
    "name": "ipython",
    "version": 3
   },
   "file_extension": ".py",
   "mimetype": "text/x-python",
   "name": "python",
   "nbconvert_exporter": "python",
   "pygments_lexer": "ipython3",
   "version": "3.13.7"
  }
 },
 "nbformat": 4,
 "nbformat_minor": 5
}
