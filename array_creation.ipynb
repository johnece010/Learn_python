{
 "cells": [
  {
   "cell_type": "code",
   "execution_count": 1,
   "id": "1acaf9d9",
   "metadata": {},
   "outputs": [
    {
     "name": "stdout",
     "output_type": "stream",
     "text": [
      "Creat_array: [1 2 3 4 5]\n"
     ]
    }
   ],
   "source": [
    "#1.creat an array\n",
    "import numpy as np\n",
    "\n",
    "creat_array=np.array([1,2,3,4,5])\n",
    "\n",
    "print(\"Creat_array:\",creat_array)\n"
   ]
  },
  {
   "cell_type": "code",
   "execution_count": null,
   "id": "06ff267a",
   "metadata": {},
   "outputs": [
    {
     "name": "stdout",
     "output_type": "stream",
     "text": [
      "Arrange_array: [ 1  3  5  7  9 11 13 15 17 19]\n"
     ]
    }
   ],
   "source": [
    "#2.creat_arange_array\n",
    "import numpy as np\n",
    "\n",
    "range_array=np.arange(1,20,2)\n",
    "\n",
    "print(\"Arrange_array:\",range_array)"
   ]
  },
  {
   "cell_type": "code",
   "execution_count": null,
   "id": "a4ec78db",
   "metadata": {},
   "outputs": [
    {
     "name": "stdout",
     "output_type": "stream",
     "text": [
      "Spaced_numbers: [0.  0.5 1. ]\n"
     ]
    }
   ],
   "source": [
    "#3.Evenly spaced numbers between 0 and 1 (5 values)\n",
    "import numpy as np\n",
    "\n",
    "Spaced_number=np.linspace(0,1,3)\n",
    "\n",
    "print(\"Spaced_numbers:\",Spaced_number.astype(float))"
   ]
  },
  {
   "cell_type": "code",
   "execution_count": 3,
   "id": "cb7f8c6c",
   "metadata": {},
   "outputs": [
    {
     "name": "stdout",
     "output_type": "stream",
     "text": [
      "matrix: [0. 0. 0. 0. 0. 0.]\n"
     ]
    }
   ],
   "source": [
    "#4.2×3 matrix filled with 0\n",
    "import numpy as np\n",
    "\n",
    "matrix_fill=np.zeros([3*2])\n",
    "\n",
    "print(\"matrix:\",matrix_fill)"
   ]
  },
  {
   "cell_type": "code",
   "execution_count": null,
   "id": "7ccdcd1b",
   "metadata": {},
   "outputs": [
    {
     "name": "stdout",
     "output_type": "stream",
     "text": [
      "matmul:\n",
      " [[[ 26  38  50]\n",
      "  [ 56  86 116]\n",
      "  [ 86 134 182]]]\n"
     ]
    }
   ],
   "source": [
    "#5.np.mutmul \n",
    "import numpy as np\n",
    "\n",
    "array1=np.array([[[1,2,3],[4,5,6],[7,8,9]]])\n",
    "\n",
    "arrary2=np.array([[[1,3,5],[2,4,6],[7,9,11]]])\n",
    "\n",
    "array3=np.matmul(array1,arrary2)\n",
    "\n",
    "print(\"matmul:\\n\",array3)"
   ]
  },
  {
   "cell_type": "code",
   "execution_count": null,
   "id": "79e0b57a",
   "metadata": {},
   "outputs": [
    {
     "name": "stdout",
     "output_type": "stream",
     "text": [
      "matrix_1:\n",
      " [[1. 1. 1.]\n",
      " [1. 1. 1.]\n",
      " [1. 1. 1.]]\n"
     ]
    }
   ],
   "source": [
    "#6.np.ones((3,3)) 3*3 matrix filled with 1\n",
    "import numpy as np\n",
    "\n",
    "matrix_one=np.ones((3,3))\n",
    "\n",
    "print(\"matrix_1:\\n\",matrix_one)"
   ]
  },
  {
   "cell_type": "code",
   "execution_count": null,
   "id": "c50c144c",
   "metadata": {},
   "outputs": [
    {
     "name": "stdout",
     "output_type": "stream",
     "text": [
      "[[1. 0. 0. 0.]\n",
      " [0. 1. 0. 0.]\n",
      " [0. 0. 1. 0.]\n",
      " [0. 0. 0. 1.]]\n"
     ]
    }
   ],
   "source": [
    "#7.Identity matrix (3×3)\n",
    "import numpy as np\n",
    "\n",
    "mat_3=np.eye(4)\n",
    "\n",
    "print(mat_3)"
   ]
  },
  {
   "cell_type": "code",
   "execution_count": 16,
   "id": "53521529",
   "metadata": {},
   "outputs": [
    {
     "name": "stdout",
     "output_type": "stream",
     "text": [
      "Arrange_array: [0 1 2 3 4 5 6 7 8 9]\n"
     ]
    }
   ],
   "source": [
    "#8.arange_array\n",
    "import numpy as np\n",
    "\n",
    "arange_array=np.arange(10)\n",
    "\n",
    "print(\"Arrange_array:\",arange_array)"
   ]
  },
  {
   "cell_type": "code",
   "execution_count": 19,
   "id": "850f506b",
   "metadata": {},
   "outputs": [
    {
     "name": "stdout",
     "output_type": "stream",
     "text": [
      "[[ 0  1  2  3  4]\n",
      " [ 5  6  7  8  9]\n",
      " [10 11 12 13 14]\n",
      " [15 16 17 18 19]\n",
      " [20 21 22 23 24]]\n"
     ]
    }
   ],
   "source": [
    "#9.reshape_array\n",
    "import numpy as np\n",
    "\n",
    "arr = np.arange(25)       # [0 1 2 3 4 5]\n",
    "\n",
    "reshaped = np.reshape(arr, (5, 5))\n",
    "print(reshaped)"
   ]
  }
 ],
 "metadata": {
  "kernelspec": {
   "display_name": "Python 3",
   "language": "python",
   "name": "python3"
  },
  "language_info": {
   "codemirror_mode": {
    "name": "ipython",
    "version": 3
   },
   "file_extension": ".py",
   "mimetype": "text/x-python",
   "name": "python",
   "nbconvert_exporter": "python",
   "pygments_lexer": "ipython3",
   "version": "3.13.7"
  }
 },
 "nbformat": 4,
 "nbformat_minor": 5
}
