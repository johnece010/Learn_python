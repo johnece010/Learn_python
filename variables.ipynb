{
 "cells": [
  {
   "cell_type": "code",
   "execution_count": 3,
   "id": "8ccdaf89",
   "metadata": {},
   "outputs": [
    {
     "name": "stdout",
     "output_type": "stream",
     "text": [
      "Joseph kennady\n",
      "Arokeya Delcy\n",
      "Johnson\n",
      "Jayaseelan\n",
      "John Prasanna Kumar\n"
     ]
    }
   ],
   "source": [
    "A = \"Joseph kennady\"\n",
    "B = \"Arokeya Delcy\"\n",
    "C = \"Johnson\"\n",
    "D = \"Jayaseelan\"\n",
    "E = \"John Prasanna Kumar\"\n",
    "\n",
    "print(A)\n",
    "print(B)\n",
    "print(C)\n",
    "print(D)\n",
    "print(E)\n"
   ]
  },
  {
   "cell_type": "code",
   "execution_count": 10,
   "id": "3d907ca7",
   "metadata": {},
   "outputs": [
    {
     "name": "stdout",
     "output_type": "stream",
     "text": [
      "Joseph kennady : Arokeya Delcy : Johnson : Jayaseelan : John Prasanna Kumar\n"
     ]
    }
   ],
   "source": [
    "A = \"Joseph kennady\"\n",
    "B = \"Arokeya Delcy\"\n",
    "C = \"Johnson\"\n",
    "D = \"Jayaseelan\"\n",
    "E = \"John Prasanna Kumar\"\n",
    "\n",
    "print(A,\":\",B,\":\",C,\":\",D,\":\",E)"
   ]
  }
 ],
 "metadata": {
  "kernelspec": {
   "display_name": "Python 3",
   "language": "python",
   "name": "python3"
  },
  "language_info": {
   "codemirror_mode": {
    "name": "ipython",
    "version": 3
   },
   "file_extension": ".py",
   "mimetype": "text/x-python",
   "name": "python",
   "nbconvert_exporter": "python",
   "pygments_lexer": "ipython3",
   "version": "3.13.7"
  }
 },
 "nbformat": 4,
 "nbformat_minor": 5
}
