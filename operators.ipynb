{
 "cells": [
  {
   "cell_type": "code",
   "execution_count": 1,
   "id": "76ea7673",
   "metadata": {},
   "outputs": [
    {
     "name": "stdout",
     "output_type": "stream",
     "text": [
      "Addition: 30\n",
      "Subtraction: -10\n",
      "Multiplication: 200\n",
      "Division: 0.5\n",
      "Module Division: 10\n"
     ]
    }
   ],
   "source": [
    "#Arithmatic Operators:\n",
    "\n",
    "num1 = 10\n",
    "num2 = 20\n",
    "\n",
    "#1.Addition Operation\n",
    "print(\"Addition:\",num1+num2)\n",
    "\n",
    "#2.Subtraction Operation\n",
    "print(\"Subtraction:\",num1-num2)\n",
    "\n",
    "#3.Multiplication Operation\n",
    "print(\"Multiplication:\",num1*num2)\n",
    "\n",
    "#4.Division Operation\n",
    "print(\"Division:\",num1/num2)\n",
    "\n",
    "#5.Module Division\n",
    "print(\"Module Division:\",num1%num2)"
   ]
  }
 ],
 "metadata": {
  "kernelspec": {
   "display_name": "Python 3",
   "language": "python",
   "name": "python3"
  },
  "language_info": {
   "codemirror_mode": {
    "name": "ipython",
    "version": 3
   },
   "file_extension": ".py",
   "mimetype": "text/x-python",
   "name": "python",
   "nbconvert_exporter": "python",
   "pygments_lexer": "ipython3",
   "version": "3.13.7"
  }
 },
 "nbformat": 4,
 "nbformat_minor": 5
}
